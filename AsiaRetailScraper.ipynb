{
 "cells": [
  
  {
   "cell_type": "code",
   "execution_count": 1,
   "metadata": {},
   "outputs": [],
   "source": [
    "import requests\n",
    "from bs4 import BeautifulSoup"
   ]
  },
  {
   "cell_type": "code",
   "execution_count": 2,
   "metadata": {},
   "outputs": [],
   "source": [
    "html_page = requests.get('https://globus-online.kg/catalog/bakaleya/krupy_khlopya/krupy_fasovannye/').content"
   ]
  },
  {
   "cell_type": "code",
   "execution_count": 6,
   "metadata": {},
   "outputs": [],
   "source": [
    "soup = BeautifulSoup(html_text, 'lxml')"
   ]
  },
  {
   "cell_type": "code",
   "execution_count": 38,
   "metadata": {},
   "outputs": [],
   "source": [
    "all_products = soup.find('div', class_='list-showcase__inner js-element__shadow')"
   ]
  },
  {
   "cell_type": "code",
   "execution_count": 59,
   "metadata": {
    "scrolled": true
   },
   "outputs": [],
   "source": [
    "all_products = soup.find_all('div', class_ = 'list-showcase__part-main')"
   ]
  },
  {
   "cell_type": "code",
   "execution_count": 60,
   "metadata": {},
   "outputs": [
    {
     "data": {
      "text/plain": [
       "109"
      ]
     },
     "execution_count": 60,
     "metadata": {},
     "output_type": "execute_result"
    }
   ],
   "source": [
    "len(all_products)"
   ]
  },
  {
   "cell_type": "code",
   "execution_count": 82,
   "metadata": {},
   "outputs": [],
   "source": [
    "prices = []\n",
    "name = []\n",
    "measure = []\n",
    "for product in all_products:\n",
    "    prices.append(product.find(\"div\", class_=\"list-showcase__prices\").text.replace('\\n', '').replace('сом/шт', ' ').split(' ')[0])\n",
    "    name.append(product.find(\"div\", class_=\"list-showcase__name-rating\").text.replace('\\n', '').split(' ')[:-1])\n",
    "    measure.append(product.find(\"div\", class_=\"list-showcase__prices\").text.replace('\\n', '').replace('/', ' ').split(' ')[4])"
   ]
  },
  {
   "cell_type": "code",
   "execution_count": 86,
   "metadata": {
    "scrolled": true
   },
   "outputs": [],
   "source": [
    "name_str = []\n",
    "for i in name:\n",
    "    name_str.append(' '.join(map(str, i)))"
   ]
  },
  {
   "cell_type": "code",
   "execution_count": null,
   "metadata": {},
   "outputs": [],
   "source": []
  },
  {
   "cell_type": "code",
   "execution_count": 11,
   "metadata": {},
   "outputs": [
    {
     "name": "stdout",
     "output_type": "stream",
     "text": [
      "1---\n",
      "\n"
     ]
    },
    {
     "ename": "TypeError",
     "evalue": "find() takes no keyword arguments",
     "output_type": "error",
     "traceback": [
      "\u001b[1;31m---------------------------------------------------------------------------\u001b[0m",
      "\u001b[1;31mTypeError\u001b[0m                                 Traceback (most recent call last)",
      "Cell \u001b[1;32mIn[11], line 4\u001b[0m\n\u001b[0;32m      2\u001b[0m \u001b[38;5;28mprint\u001b[39m(i\u001b[38;5;241m+\u001b[39m\u001b[38;5;241m1\u001b[39m, end\u001b[38;5;241m=\u001b[39m\u001b[38;5;124m'\u001b[39m\u001b[38;5;124m---\u001b[39m\u001b[38;5;124m'\u001b[39m)\n\u001b[0;32m      3\u001b[0m \u001b[38;5;28mprint\u001b[39m(product)\n\u001b[1;32m----> 4\u001b[0m \u001b[38;5;28mprint\u001b[39m(product\u001b[38;5;241m.\u001b[39mfind(\u001b[38;5;124m'\u001b[39m\u001b[38;5;124mdiv\u001b[39m\u001b[38;5;124m'\u001b[39m, class_\u001b[38;5;241m=\u001b[39m\u001b[38;5;124m'\u001b[39m\u001b[38;5;124mlist-showcase__name\u001b[39m\u001b[38;5;124m'\u001b[39m)\u001b[38;5;241m.\u001b[39mtext)\n",
      "\u001b[1;31mTypeError\u001b[0m: find() takes no keyword arguments"
     ]
    }
   ],
   "source": [
    "for i, product in enumerate(all_products):\n",
    "    print(i+1, end='---')\n",
    "    print(product)\n",
    "    print(product.find('div', class_='list-showcase__name').text)"
   ]
  },
  {
   "cell_type": "code",
   "execution_count": null,
   "metadata": {},
   "outputs": [],
   "source": []
  },
  {
   "cell_type": "code",
   "execution_count": 4,
   "metadata": {
    "scrolled": true
   },
   "outputs": [
    {
     "name": "stdout",
     "output_type": "stream",
     "text": [
      "Collecting selenium\n",
      "  Downloading selenium-4.25.0-py3-none-any.whl.metadata (7.1 kB)\n",
      "Requirement already satisfied: urllib3<3,>=1.26 in c:\\programdata\\anaconda3\\lib\\site-packages (from urllib3[socks]<3,>=1.26->selenium) (2.2.2)\n",
      "Collecting trio~=0.17 (from selenium)\n",
      "  Downloading trio-0.26.2-py3-none-any.whl.metadata (8.6 kB)\n",
      "Collecting trio-websocket~=0.9 (from selenium)\n",
      "  Downloading trio_websocket-0.11.1-py3-none-any.whl.metadata (4.7 kB)\n",
      "Requirement already satisfied: certifi>=2021.10.8 in c:\\programdata\\anaconda3\\lib\\site-packages (from selenium) (2024.6.2)\n",
      "Requirement already satisfied: typing_extensions~=4.9 in c:\\programdata\\anaconda3\\lib\\site-packages (from selenium) (4.11.0)\n",
      "Requirement already satisfied: websocket-client~=1.8 in c:\\programdata\\anaconda3\\lib\\site-packages (from selenium) (1.8.0)\n",
      "Collecting attrs>=23.2.0 (from trio~=0.17->selenium)\n",
      "  Downloading attrs-24.2.0-py3-none-any.whl.metadata (11 kB)\n",
      "Requirement already satisfied: sortedcontainers in c:\\programdata\\anaconda3\\lib\\site-packages (from trio~=0.17->selenium) (2.4.0)\n",
      "Requirement already satisfied: idna in c:\\programdata\\anaconda3\\lib\\site-packages (from trio~=0.17->selenium) (3.7)\n",
      "Collecting outcome (from trio~=0.17->selenium)\n",
      "  Downloading outcome-1.3.0.post0-py2.py3-none-any.whl.metadata (2.6 kB)\n",
      "Requirement already satisfied: sniffio>=1.3.0 in c:\\programdata\\anaconda3\\lib\\site-packages (from trio~=0.17->selenium) (1.3.0)\n",
      "Requirement already satisfied: cffi>=1.14 in c:\\programdata\\anaconda3\\lib\\site-packages (from trio~=0.17->selenium) (1.16.0)\n",
      "Collecting wsproto>=0.14 (from trio-websocket~=0.9->selenium)\n",
      "  Downloading wsproto-1.2.0-py3-none-any.whl.metadata (5.6 kB)\n",
      "Requirement already satisfied: pysocks!=1.5.7,<2.0,>=1.5.6 in c:\\programdata\\anaconda3\\lib\\site-packages (from urllib3[socks]<3,>=1.26->selenium) (1.7.1)\n",
      "Requirement already satisfied: pycparser in c:\\programdata\\anaconda3\\lib\\site-packages (from cffi>=1.14->trio~=0.17->selenium) (2.21)\n",
      "Collecting h11<1,>=0.9.0 (from wsproto>=0.14->trio-websocket~=0.9->selenium)\n",
      "  Downloading h11-0.14.0-py3-none-any.whl.metadata (8.2 kB)\n",
      "Downloading selenium-4.25.0-py3-none-any.whl (9.7 MB)\n",
      "   ---------------------------------------- 0.0/9.7 MB ? eta -:--:--\n",
      "   ---------------------------------------- 0.0/9.7 MB 660.6 kB/s eta 0:00:15\n",
      "   ---------------------------------------- 0.0/9.7 MB 393.8 kB/s eta 0:00:25\n",
      "   ---------------------------------------- 0.1/9.7 MB 819.2 kB/s eta 0:00:12\n",
      "    --------------------------------------- 0.2/9.7 MB 893.0 kB/s eta 0:00:11\n",
      "   - -------------------------------------- 0.2/9.7 MB 1.2 MB/s eta 0:00:09\n",
      "   - -------------------------------------- 0.3/9.7 MB 1.1 MB/s eta 0:00:09\n",
      "   - -------------------------------------- 0.4/9.7 MB 1.2 MB/s eta 0:00:08\n",
      "   -- ------------------------------------- 0.5/9.7 MB 1.4 MB/s eta 0:00:07\n",
      "   -- ------------------------------------- 0.7/9.7 MB 1.6 MB/s eta 0:00:06\n",
      "   ---- ----------------------------------- 1.2/9.7 MB 2.5 MB/s eta 0:00:04\n",
      "   ------ --------------------------------- 1.5/9.7 MB 2.9 MB/s eta 0:00:03\n",
      "   ------- -------------------------------- 1.8/9.7 MB 3.2 MB/s eta 0:00:03\n",
      "   ------- -------------------------------- 1.8/9.7 MB 3.2 MB/s eta 0:00:03\n",
      "   --------- ------------------------------ 2.2/9.7 MB 3.3 MB/s eta 0:00:03\n",
      "   --------- ------------------------------ 2.2/9.7 MB 3.3 MB/s eta 0:00:03\n",
      "   ---------- ----------------------------- 2.5/9.7 MB 3.3 MB/s eta 0:00:03\n",
      "   ---------- ----------------------------- 2.5/9.7 MB 3.3 MB/s eta 0:00:03\n",
      "   ---------- ----------------------------- 2.5/9.7 MB 3.3 MB/s eta 0:00:03\n",
      "   ---------- ----------------------------- 2.5/9.7 MB 3.3 MB/s eta 0:00:03\n",
      "   -------------- ------------------------- 3.5/9.7 MB 3.8 MB/s eta 0:00:02\n",
      "   -------------- ------------------------- 3.6/9.7 MB 3.6 MB/s eta 0:00:02\n",
      "   ----------------- ---------------------- 4.1/9.7 MB 4.0 MB/s eta 0:00:02\n",
      "   ----------------- ---------------------- 4.3/9.7 MB 4.1 MB/s eta 0:00:02\n",
      "   ----------------- ---------------------- 4.3/9.7 MB 4.1 MB/s eta 0:00:02\n",
      "   -------------------- ------------------- 5.0/9.7 MB 4.3 MB/s eta 0:00:02\n",
      "   ------------------------- -------------- 6.2/9.7 MB 5.1 MB/s eta 0:00:01\n",
      "   --------------------------- ------------ 6.7/9.7 MB 5.3 MB/s eta 0:00:01\n",
      "   ----------------------------- ---------- 7.1/9.7 MB 5.5 MB/s eta 0:00:01\n",
      "   ------------------------------- -------- 7.6/9.7 MB 5.6 MB/s eta 0:00:01\n",
      "   --------------------------------- ------ 8.0/9.7 MB 5.8 MB/s eta 0:00:01\n",
      "   ----------------------------------- ---- 8.5/9.7 MB 5.9 MB/s eta 0:00:01\n",
      "   ------------------------------------- -- 9.0/9.7 MB 6.0 MB/s eta 0:00:01\n",
      "   -------------------------------------- - 9.4/9.7 MB 6.2 MB/s eta 0:00:01\n",
      "   ---------------------------------------- 9.7/9.7 MB 6.1 MB/s eta 0:00:00\n",
      "Downloading trio-0.26.2-py3-none-any.whl (475 kB)\n",
      "   ---------------------------------------- 0.0/476.0 kB ? eta -:--:--\n",
      "   ---------------------------------------  471.0/476.0 kB 9.8 MB/s eta 0:00:01\n",
      "   ---------------------------------------- 476.0/476.0 kB 9.9 MB/s eta 0:00:00\n",
      "Downloading trio_websocket-0.11.1-py3-none-any.whl (17 kB)\n",
      "Downloading attrs-24.2.0-py3-none-any.whl (63 kB)\n",
      "   ---------------------------------------- 0.0/63.0 kB ? eta -:--:--\n",
      "   ---------------------------------------- 63.0/63.0 kB 3.3 MB/s eta 0:00:00\n",
      "Downloading wsproto-1.2.0-py3-none-any.whl (24 kB)\n",
      "Downloading outcome-1.3.0.post0-py2.py3-none-any.whl (10 kB)\n",
      "Downloading h11-0.14.0-py3-none-any.whl (58 kB)\n",
      "   ---------------------------------------- 0.0/58.3 kB ? eta -:--:--\n",
      "   ---------------------------------------- 58.3/58.3 kB ? eta 0:00:00\n",
      "Installing collected packages: h11, attrs, wsproto, outcome, trio, trio-websocket, selenium\n",
      "Successfully installed attrs-24.2.0 h11-0.14.0 outcome-1.3.0.post0 selenium-4.25.0 trio-0.26.2 trio-websocket-0.11.1 wsproto-1.2.0\n"
     ]
    }
   ],
   "source": [
    "# to install selenium (run it only once)\n",
    "!pip install selenium --user"
   ]
  },
  {
   "cell_type": "code",
   "execution_count": 3,
   "metadata": {},
   "outputs": [],
   "source": [
    "from selenium import webdriver"
   ]
  },
  {
   "cell_type": "code",
   "execution_count": 4,
   "metadata": {},
   "outputs": [],
   "source": [
    "import time"
   ]
  },
  {
   "cell_type": "code",
   "execution_count": 56,
   "metadata": {},
   "outputs": [],
   "source": [
    "url = 'https://globus-online.kg/catalog/bakaleya/krupy_khlopya/krupy_fasovannye/'\n",
    "\n",
    "# Загрузка драйвера\n",
    "driver = webdriver.Chrome()\n",
    "\n",
    "driver.get(url)\n",
    "\n",
    "time.sleep(3)\n",
    "\n",
    "SCROLL_PAUSE_TIME = 3\n",
    "\n",
    "# Расчет высоты страницы\n",
    "last_height = driver.execute_script(\"return document.body.scrollHeight\")\n",
    "\n",
    "while True:\n",
    "    # Scroll down to bottom\n",
    "    driver.execute_script(\"window.scrollTo(0, document.body.scrollHeight);\")\n",
    "\n",
    "    # Подождать загрузки страницы\n",
    "    time.sleep(SCROLL_PAUSE_TIME)\n",
    "\n",
    "    # Расчет новой высоты и сравнение с предыдущей. Если разницы нет, то страница дошла до конца\n",
    "    new_height = driver.execute_script(\"return document.body.scrollHeight\")\n",
    "    if new_height == last_height:\n",
    "        break\n",
    "    last_height = new_height\n",
    "\n",
    "html_text = driver.page_source\n",
    "time.sleep(1) # чтобы в конце не сразу закрывалось\n",
    "driver.quit()"
   ]
  },
  {
   "cell_type": "code",
   "execution_count": null,
   "metadata": {},
   "outputs": [],
   "source": [
    "# Название\n",
    "# Цена\n",
    "# Единица измерения (кг, шт)"
   ]
  },
  {
   "cell_type": "code",
   "execution_count": 89,
   "metadata": {},
   "outputs": [],
   "source": [
    "import pandas as pd"
   ]
  },
  {
   "cell_type": "code",
   "execution_count": 91,
   "metadata": {},
   "outputs": [],
   "source": [
    "df = pd.DataFrame(list(zip(name_str,prices,measure)),\n",
    "                  columns = [\"Название товара\", \"Цена\", \"Мера\"])"
   ]
  },
  {
   "cell_type": "code",
   "execution_count": 92,
   "metadata": {},
   "outputs": [],
   "source": [
    "columns = [\"Цена\"]\n",
    "for i in columns:\n",
    "    df[i] = df[i].astype(float)"
   ]
  },
  {
   "cell_type": "code",
   "execution_count": 95,
   "metadata": {},
   "outputs": [],
   "source": [
    "df.to_csv(\"Asia.csv\")"
   ]
  },
  {
   "cell_type": "code",
   "execution_count": null,
   "metadata": {},
   "outputs": [],
   "source": []
  }
 ],
 "metadata": {
  "kernelspec": {
   "display_name": "Python 3 (ipykernel)",
   "language": "python",
   "name": "python3"
  },
  "language_info": {
   "codemirror_mode": {
    "name": "ipython",
    "version": 3
   },
   "file_extension": ".py",
   "mimetype": "text/x-python",
   "name": "python",
   "nbconvert_exporter": "python",
   "pygments_lexer": "ipython3",
   "version": "3.11.5"
  }
 },
 "nbformat": 4,
 "nbformat_minor": 4
}
